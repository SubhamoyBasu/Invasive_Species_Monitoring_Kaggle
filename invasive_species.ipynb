{
 "cells": [
  {
   "cell_type": "markdown",
   "metadata": {},
   "source": [
    "# Invasive Speices Monitoring (Kaggle) with Keras"
   ]
  },
  {
   "cell_type": "code",
   "execution_count": null,
   "metadata": {},
   "outputs": [],
   "source": [
    "import pandas as pd\n",
    "import numpy as np\n",
    "import os, shutil\n",
    "import glob\n",
    "from keras.models import Model, Sequential\n",
    "from keras.layers import Dense, Dropout, Flatten, BatchNormalization, GlobalAveragePooling2D, MaxPooling2D\n",
    "from keras.preprocessing.image import ImageDataGenerator, img_to_array, load_img\n",
    "from keras.applications import Xception\n",
    "from keras import backend as K\n",
    "from keras.callbacks import Callback, ModelCheckpoint, EarlyStopping\n",
    "from keras.wrappers.scikit_learn import KerasClassifier\n",
    "from keras import optimizers"
   ]
  },
  {
   "cell_type": "markdown",
   "metadata": {},
   "source": [
    "### Read labels"
   ]
  },
  {
   "cell_type": "code",
   "execution_count": null,
   "metadata": {
    "collapsed": true
   },
   "outputs": [],
   "source": [
    "train_dir = \"./train\"\n",
    "val_dir = \"./val\"\n",
    "test_dir = \"./test\"\n",
    "\n",
    "# Load training labels\n",
    "train_labels = pd.read_csv(\"train_labels.csv\")"
   ]
  },
  {
   "cell_type": "markdown",
   "metadata": {},
   "source": [
    "### Create directory structure"
   ]
  },
  {
   "cell_type": "code",
   "execution_count": null,
   "metadata": {
    "collapsed": true
   },
   "outputs": [],
   "source": [
    "train_labels['name'] = train_labels['name'].apply(lambda x: str(x)+\".jpg\")\n",
    "train_labels.set_index(train_labels['name'],inplace=True)"
   ]
  },
  {
   "cell_type": "code",
   "execution_count": null,
   "metadata": {
    "collapsed": true
   },
   "outputs": [],
   "source": [
    "# Training images (all but last 500)\n",
    "move_from = \"./train/No_Invasive/\"\n",
    "move_to = \"./train/Invasive/\"\n",
    "files = os.listdir(move_from)\n",
    "files.sort()\n",
    "for f in files:    \n",
    "    if train_labels.loc[f]['invasive']:        \n",
    "        src = move_from+f\n",
    "        dst = move_to+f\n",
    "        shutil.move(src,dst)"
   ]
  },
  {
   "cell_type": "code",
   "execution_count": null,
   "metadata": {
    "collapsed": true
   },
   "outputs": [],
   "source": [
    "# Validation images (last 500)\n",
    "move_from = \"./val/No_Invasive/\"\n",
    "move_to = \"./val/Invasive/\"\n",
    "files = os.listdir(move_from)\n",
    "files.sort()\n",
    "for f in files:    \n",
    "    if train_labels.loc[f]['invasive']:        \n",
    "        src = move_from+f\n",
    "        dst = move_to+f\n",
    "        shutil.move(src,dst)"
   ]
  },
  {
   "cell_type": "markdown",
   "metadata": {},
   "source": [
    "### CNN Architecture (use pre-trained network: Xception)"
   ]
  },
  {
   "cell_type": "markdown",
   "metadata": {},
   "source": [
    "#### Iterate to find the optimal architecture"
   ]
  },
  {
   "cell_type": "code",
   "execution_count": null,
   "metadata": {},
   "outputs": [],
   "source": [
    "img_rows = 299\n",
    "img_cols = 299\n",
    "batch_size = 16\n",
    "num_nodes = [512,1024]\n",
    "num_layers = [1,2]\n",
    "dropout_prob = [0.2,0.3]\n",
    "\n",
    "for layers in num_layers:\n",
    "    for nodes in num_nodes:\n",
    "        for p in dropout_prob:\n",
    "\n",
    "            model_param = str(layers) + \"-\" + str(nodes) + \"-\" + str(p)\n",
    "            print(\"**********************************************************************************************\")\n",
    "            print(model_param)\n",
    "            print(\"**********************************************************************************************\")\n",
    "            \n",
    "            xception_base = Xception(input_shape=(img_cols, img_rows, 3), weights='imagenet', include_top=False)\n",
    "            for layer in xception_base.layers:\n",
    "                layer.trainable = False\n",
    "\n",
    "            dense_model = Sequential()\n",
    "            dense_model.add(GlobalAveragePooling2D(input_shape=xception_base.output_shape[1:]))        \n",
    "\n",
    "            for i in range(0,layers):\n",
    "                dense_model.add(Dense(nodes, activation='relu'))\n",
    "                dense_model.add(Dropout(p))\n",
    "                dense_model.add(BatchNormalization())\n",
    "\n",
    "            dense_model.add(Dense(1, activation='sigmoid'))    \n",
    "\n",
    "            final_model = Model(inputs=xception_base.input, outputs=dense_model(xception_base.output))\n",
    "            final_model.compile(loss='binary_crossentropy', optimizer='rmsprop', metrics=['accuracy'])\n",
    "\n",
    "            train_datagen = ImageDataGenerator(rescale=1.0/255, rotation_range=30,width_shift_range=0.2,height_shift_range=0.2,\n",
    "                                               zoom_range=0.2,horizontal_flip=True)\n",
    "\n",
    "            train_generator = train_datagen.flow_from_directory(train_dir,target_size=(img_cols, img_rows),batch_size=batch_size,\n",
    "                                                                class_mode='binary')\n",
    "\n",
    "            val_datagen = ImageDataGenerator(rescale=1.0/255)\n",
    "\n",
    "            val_generator = val_datagen.flow_from_directory(val_dir,target_size=(img_cols, img_rows),batch_size=batch_size,\n",
    "                                                                class_mode='binary')\n",
    "\n",
    "            checkpointer = [ModelCheckpoint(filepath=model_param +'_invasive_xception.model.best.hdf5',verbose=1, \n",
    "                                            save_best_only=True),\n",
    "                            EarlyStopping(monitor='val_acc', patience=5, verbose=0)]\n",
    "\n",
    "            final_model.fit_generator(train_generator,samples_per_epoch=1795//batch_size,\n",
    "                                      epochs=10,validation_data=val_generator,nb_val_samples=500//batch_size,\n",
    "                                      callbacks=checkpointer)\n",
    "            K.clear_session()"
   ]
  },
  {
   "cell_type": "markdown",
   "metadata": {},
   "source": [
    "### Final model architecture"
   ]
  },
  {
   "cell_type": "code",
   "execution_count": null,
   "metadata": {},
   "outputs": [],
   "source": [
    "img_rows = 299\n",
    "img_cols = 299\n",
    "batch_size = 16\n",
    "xception_base_layer = 126\n",
    "\n",
    "xception_base = Xception(input_shape=(img_cols, img_rows, 3), weights='imagenet', include_top=False)\n",
    "\n",
    "dense_model = Sequential()\n",
    "dense_model.add(GlobalAveragePooling2D(input_shape=xception_base.output_shape[1:]))        \n",
    "\n",
    "dense_model.add(Dense(1024, activation='relu'))\n",
    "dense_model.add(Dropout(0.3))\n",
    "dense_model.add(BatchNormalization())\n",
    "\n",
    "dense_model.add(Dense(1024, activation='relu'))\n",
    "dense_model.add(Dropout(0.3))\n",
    "dense_model.add(BatchNormalization())\n",
    "\n",
    "dense_model.add(Dense(1, activation='sigmoid'))    \n",
    "\n",
    "final_model = Model(inputs=xception_base.input, outputs=dense_model(xception_base.output))\n",
    "final_model.load_weights('2-1024-0.3_invasive_xception.model.best.hdf5')\n",
    "\n",
    "for layer in final_model.layers[:xception_base_layer]:\n",
    "    layer.trainable = False\n",
    "for layer in final_model.layers[xception_base_layer:]:\n",
    "    layer.trainable = True\n",
    "\n",
    "final_model.compile(loss='binary_crossentropy', optimizer=optimizers.SGD(lr=1e-4, momentum=0.9), metrics=['accuracy'])\n",
    "\n",
    "checkpointer = [ModelCheckpoint(filepath='invasive_xception.model.best.hdf5',monitor='val_acc',verbose=1, \n",
    "                                save_best_only=True),\n",
    "                EarlyStopping(monitor='val_acc', patience=5, verbose=0)]\n",
    "\n",
    "final_model.fit_generator(train_generator,samples_per_epoch=1795,\n",
    "                          epochs=50,validation_data=val_generator,nb_val_samples=500,\n",
    "                          callbacks=checkpointer)"
   ]
  },
  {
   "cell_type": "markdown",
   "metadata": {},
   "source": [
    "### Predictions"
   ]
  },
  {
   "cell_type": "code",
   "execution_count": null,
   "metadata": {},
   "outputs": [],
   "source": [
    "img_rows = 299\n",
    "img_cols = 299\n",
    "batch_size = 1\n",
    "xception_base_layer = 126\n",
    "test_samples = 1531\n",
    "\n",
    "# Load test images\n",
    "test_datagen = ImageDataGenerator(rescale=1.0/255)\n",
    "test_generator = test_datagen.flow_from_directory(test_dir,target_size=(img_cols, img_rows),batch_size=batch_size,\n",
    "                                                                class_mode='binary',shuffle=False)\n",
    "\n",
    "# Define model\n",
    "xception_base = Xception(input_shape=(img_cols, img_rows, 3), weights='imagenet', include_top=False)\n",
    "\n",
    "dense_model = Sequential()\n",
    "dense_model.add(GlobalAveragePooling2D(input_shape=xception_base.output_shape[1:]))        \n",
    "\n",
    "dense_model.add(Dense(1024, activation='relu'))\n",
    "dense_model.add(Dropout(0.3))\n",
    "dense_model.add(BatchNormalization())\n",
    "\n",
    "dense_model.add(Dense(1024, activation='relu'))\n",
    "dense_model.add(Dropout(0.3))\n",
    "dense_model.add(BatchNormalization())\n",
    "\n",
    "dense_model.add(Dense(1, activation='sigmoid'))    \n",
    "\n",
    "final_model = Model(inputs=xception_base.input, outputs=dense_model(xception_base.output))\n",
    "final_model.load_weights('invasive_xception.model.best.hdf5')\n",
    "\n",
    "final_model.compile(loss='binary_crossentropy', optimizer=optimizers.SGD(lr=1e-4, momentum=0.9), metrics=['accuracy'])\n",
    "\n",
    "final_model.summary()\n",
    "\n",
    "predictions = final_model.predict_generator(test_generator,steps=test_samples)"
   ]
  },
  {
   "cell_type": "markdown",
   "metadata": {},
   "source": [
    "### Prepare submission file"
   ]
  },
  {
   "cell_type": "code",
   "execution_count": null,
   "metadata": {
    "collapsed": true
   },
   "outputs": [],
   "source": [
    "image_num = [int(x.replace(\"unknown\\\\\", \"\").replace(\".jpg\", \"\")) for x in test_generator.filenames]\n",
    "results = pd.DataFrame({'name':image_num, 'invasive':predictions.reshape((test_samples,))})\n",
    "results.to_csv(\"results.csv\")"
   ]
  }
 ],
 "metadata": {
  "kernelspec": {
   "display_name": "Python 3",
   "language": "python",
   "name": "python3"
  },
  "language_info": {
   "codemirror_mode": {
    "name": "ipython",
    "version": 3
   },
   "file_extension": ".py",
   "mimetype": "text/x-python",
   "name": "python",
   "nbconvert_exporter": "python",
   "pygments_lexer": "ipython3",
   "version": "3.5.3"
  }
 },
 "nbformat": 4,
 "nbformat_minor": 2
}
